{
  "cells": [
    {
      "cell_type": "markdown",
      "metadata": {
        "id": "view-in-github",
        "colab_type": "text"
      },
      "source": [
        "<a href=\"https://colab.research.google.com/github/fereshtehdehkhoda/Data-Science-Session1/blob/main/session1.ipynb\" target=\"_parent\"><img src=\"https://colab.research.google.com/assets/colab-badge.svg\" alt=\"Open In Colab\"/></a>"
      ]
    },
    {
      "cell_type": "markdown",
      "id": "8d86110c-6fd4-4aa5-af0c-ab02dc38f52a",
      "metadata": {
        "id": "8d86110c-6fd4-4aa5-af0c-ab02dc38f52a"
      },
      "source": [
        "# Python Basic"
      ]
    },
    {
      "cell_type": "markdown",
      "id": "6aaa6be5-e0c2-44b3-a5a8-59e82cf4fe71",
      "metadata": {
        "id": "6aaa6be5-e0c2-44b3-a5a8-59e82cf4fe71"
      },
      "source": [
        "## Introduction"
      ]
    },
    {
      "cell_type": "markdown",
      "id": "acd5c3cd-e74c-4a69-bf95-9870d747e5c6",
      "metadata": {
        "id": "acd5c3cd-e74c-4a69-bf95-9870d747e5c6"
      },
      "source": [
        "Note: Python is a case-sensitive language."
      ]
    },
    {
      "cell_type": "code",
      "execution_count": null,
      "id": "0d8ce2f1-9f40-42ea-bceb-729f1fec23f1",
      "metadata": {
        "id": "0d8ce2f1-9f40-42ea-bceb-729f1fec23f1",
        "outputId": "2890a76e-915d-4ccc-e42b-07f383fbb4db"
      },
      "outputs": [
        {
          "data": {
            "text/plain": [
              "8"
            ]
          },
          "execution_count": 9,
          "metadata": {},
          "output_type": "execute_result"
        }
      ],
      "source": [
        "3+5"
      ]
    },
    {
      "cell_type": "code",
      "execution_count": null,
      "id": "3de1f3fb-684b-443c-9ca3-b7944a4d0f54",
      "metadata": {
        "id": "3de1f3fb-684b-443c-9ca3-b7944a4d0f54",
        "outputId": "e3ce1fc9-768e-4272-b77c-0e7fbd0916e3"
      },
      "outputs": [
        {
          "data": {
            "text/plain": [
              "8"
            ]
          },
          "execution_count": 11,
          "metadata": {},
          "output_type": "execute_result"
        }
      ],
      "source": [
        "3+5"
      ]
    },
    {
      "cell_type": "code",
      "execution_count": null,
      "id": "001e12bf-0fe7-4a73-8e6c-9cdd3b693f7f",
      "metadata": {
        "id": "001e12bf-0fe7-4a73-8e6c-9cdd3b693f7f"
      },
      "outputs": [],
      "source": [
        "x=2"
      ]
    },
    {
      "cell_type": "code",
      "execution_count": null,
      "id": "940cf209-f575-4894-8c9e-097a3b6d5cbd",
      "metadata": {
        "id": "940cf209-f575-4894-8c9e-097a3b6d5cbd",
        "outputId": "032fbcd7-29af-49d0-b0b8-3942def52227"
      },
      "outputs": [
        {
          "data": {
            "text/plain": [
              "2"
            ]
          },
          "execution_count": 15,
          "metadata": {},
          "output_type": "execute_result"
        }
      ],
      "source": [
        "x"
      ]
    },
    {
      "cell_type": "code",
      "execution_count": null,
      "id": "701f7786-65c8-4b31-bc73-c16bb6b1e046",
      "metadata": {
        "id": "701f7786-65c8-4b31-bc73-c16bb6b1e046",
        "outputId": "92f6b7ba-aa6d-43f8-f60b-fb2baaa7b15a"
      },
      "outputs": [
        {
          "ename": "SyntaxError",
          "evalue": "cannot assign to True (95727510.py, line 1)",
          "output_type": "error",
          "traceback": [
            "\u001b[1;36m  Cell \u001b[1;32mIn[17], line 1\u001b[1;36m\u001b[0m\n\u001b[1;33m    True=2\u001b[0m\n\u001b[1;37m    ^\u001b[0m\n\u001b[1;31mSyntaxError\u001b[0m\u001b[1;31m:\u001b[0m cannot assign to True\n"
          ]
        }
      ],
      "source": [
        "True=2"
      ]
    },
    {
      "cell_type": "markdown",
      "id": "48fc5024-1626-480f-8c8d-103e2e42cc3b",
      "metadata": {
        "id": "48fc5024-1626-480f-8c8d-103e2e42cc3b"
      },
      "source": [
        "## Numbers"
      ]
    },
    {
      "cell_type": "code",
      "execution_count": null,
      "id": "c0d7b33c-bec3-48fa-be35-cc6cfbc8f1da",
      "metadata": {
        "id": "c0d7b33c-bec3-48fa-be35-cc6cfbc8f1da",
        "outputId": "d07e4783-1c8c-4e76-863b-a0098b4c4e62"
      },
      "outputs": [
        {
          "data": {
            "text/plain": [
              "1"
            ]
          },
          "execution_count": 23,
          "metadata": {},
          "output_type": "execute_result"
        }
      ],
      "source": [
        "#Integer\n",
        "x = 1\n",
        "x"
      ]
    },
    {
      "cell_type": "code",
      "execution_count": null,
      "id": "3e5bca78-408b-4ceb-928c-dd49a98039ad",
      "metadata": {
        "id": "3e5bca78-408b-4ceb-928c-dd49a98039ad",
        "outputId": "944168f8-06cd-4aec-e536-c8fad754d232"
      },
      "outputs": [
        {
          "data": {
            "text/plain": [
              "int"
            ]
          },
          "execution_count": 25,
          "metadata": {},
          "output_type": "execute_result"
        }
      ],
      "source": [
        "#Get the type\n",
        "type(x)"
      ]
    },
    {
      "cell_type": "code",
      "execution_count": null,
      "id": "e72736f3-71b9-4e2e-911e-aa1419972b24",
      "metadata": {
        "id": "e72736f3-71b9-4e2e-911e-aa1419972b24",
        "outputId": "3953c254-deb9-41f4-df78-987d8b7e71a1"
      },
      "outputs": [
        {
          "data": {
            "text/plain": [
              "float"
            ]
          },
          "execution_count": 27,
          "metadata": {},
          "output_type": "execute_result"
        }
      ],
      "source": [
        "#float\n",
        "x = 3.4\n",
        "x\n",
        "type(x)"
      ]
    },
    {
      "cell_type": "code",
      "execution_count": null,
      "id": "9c19f721-8cea-4765-882a-a1b83a4345a2",
      "metadata": {
        "id": "9c19f721-8cea-4765-882a-a1b83a4345a2",
        "outputId": "c15e8e79-1a08-42d2-f5d4-0b4b580257f5"
      },
      "outputs": [
        {
          "data": {
            "text/plain": [
              "complex"
            ]
          },
          "execution_count": 29,
          "metadata": {},
          "output_type": "execute_result"
        }
      ],
      "source": [
        "x = 2+1j\n",
        "type(x)"
      ]
    },
    {
      "cell_type": "code",
      "execution_count": null,
      "id": "07539eb8-23e8-4a15-bf94-c765c4db02da",
      "metadata": {
        "id": "07539eb8-23e8-4a15-bf94-c765c4db02da",
        "outputId": "581ae752-09f6-427d-edb7-0a10591fefe4"
      },
      "outputs": [
        {
          "data": {
            "text/plain": [
              "(2+1j)"
            ]
          },
          "execution_count": 31,
          "metadata": {},
          "output_type": "execute_result"
        }
      ],
      "source": [
        "x"
      ]
    },
    {
      "cell_type": "code",
      "execution_count": null,
      "id": "0b6de494-1dba-4d98-abf9-eb945e04c528",
      "metadata": {
        "id": "0b6de494-1dba-4d98-abf9-eb945e04c528",
        "outputId": "aadf9ae5-3091-4c10-f183-07f279d5850e"
      },
      "outputs": [
        {
          "data": {
            "text/plain": [
              "float"
            ]
          },
          "execution_count": 33,
          "metadata": {},
          "output_type": "execute_result"
        }
      ],
      "source": [
        "#scientific format\n",
        "x = 2.9e4\n",
        "type(x)"
      ]
    },
    {
      "cell_type": "code",
      "execution_count": null,
      "id": "21485493-b88c-444e-b018-a3a9bc0ebd86",
      "metadata": {
        "id": "21485493-b88c-444e-b018-a3a9bc0ebd86",
        "outputId": "bb1ec8c7-c0c7-467a-e946-4a586346af3d"
      },
      "outputs": [
        {
          "data": {
            "text/plain": [
              "29000.0"
            ]
          },
          "execution_count": 35,
          "metadata": {},
          "output_type": "execute_result"
        }
      ],
      "source": [
        "x"
      ]
    },
    {
      "cell_type": "markdown",
      "id": "1ad5cead-53e9-4319-96db-b3813809c8ce",
      "metadata": {
        "id": "1ad5cead-53e9-4319-96db-b3813809c8ce"
      },
      "source": [
        "## Strings"
      ]
    },
    {
      "cell_type": "code",
      "execution_count": null,
      "id": "ec25deb8-2101-4585-bb17-e610aa44ed79",
      "metadata": {
        "id": "ec25deb8-2101-4585-bb17-e610aa44ed79",
        "outputId": "4af008e4-e1b7-40d6-8bb2-94342aba973a"
      },
      "outputs": [
        {
          "data": {
            "text/plain": [
              "str"
            ]
          },
          "execution_count": 38,
          "metadata": {},
          "output_type": "execute_result"
        }
      ],
      "source": [
        "s1 = 'Data science'\n",
        "type(s1)"
      ]
    },
    {
      "cell_type": "code",
      "execution_count": null,
      "id": "0295c66e-6367-4388-b06e-b153bfad2d61",
      "metadata": {
        "id": "0295c66e-6367-4388-b06e-b153bfad2d61",
        "outputId": "238e52d3-377b-4df8-c6fb-f4ea1c2881c9"
      },
      "outputs": [
        {
          "data": {
            "text/plain": [
              "'b'"
            ]
          },
          "execution_count": 40,
          "metadata": {},
          "output_type": "execute_result"
        }
      ],
      "source": [
        "s1 = 'a'\n",
        "s2 = 'b'\n",
        "s1,s2=s2,s1\n",
        "s1"
      ]
    },
    {
      "cell_type": "code",
      "execution_count": null,
      "id": "b66cf42d-6694-4e85-b86e-126877eca108",
      "metadata": {
        "id": "b66cf42d-6694-4e85-b86e-126877eca108",
        "outputId": "58b70e11-d08c-49e1-93e0-b8c1e1bd7060"
      },
      "outputs": [
        {
          "data": {
            "text/plain": [
              "'a'"
            ]
          },
          "execution_count": 42,
          "metadata": {},
          "output_type": "execute_result"
        }
      ],
      "source": [
        "s2"
      ]
    },
    {
      "cell_type": "code",
      "execution_count": null,
      "id": "91529965-f1f3-4972-a4ed-fac9799fadb8",
      "metadata": {
        "id": "91529965-f1f3-4972-a4ed-fac9799fadb8",
        "outputId": "424afbdb-d76f-4fb0-a47c-9d36d907e134"
      },
      "outputs": [
        {
          "name": "stdout",
          "output_type": "stream",
          "text": [
            "a\n"
          ]
        }
      ],
      "source": [
        "print(s2)"
      ]
    },
    {
      "cell_type": "code",
      "execution_count": null,
      "id": "1f671bc1-69ea-428d-8bae-6df0aafd169e",
      "metadata": {
        "id": "1f671bc1-69ea-428d-8bae-6df0aafd169e",
        "outputId": "0cfdceb1-6509-405c-bdfb-0b96dcbc8996"
      },
      "outputs": [
        {
          "data": {
            "text/plain": [
              "'ab'"
            ]
          },
          "execution_count": 48,
          "metadata": {},
          "output_type": "execute_result"
        }
      ],
      "source": [
        "#concatenate strings\n",
        "s2 + s1"
      ]
    },
    {
      "cell_type": "code",
      "execution_count": null,
      "id": "3e3732f6-bf70-4217-95ff-02fa05789683",
      "metadata": {
        "id": "3e3732f6-bf70-4217-95ff-02fa05789683",
        "outputId": "b0222b9d-40b0-4175-de54-301548487ac0"
      },
      "outputs": [
        {
          "name": "stdout",
          "output_type": "stream",
          "text": [
            "1\n"
          ]
        }
      ],
      "source": [
        "s4 = '1'\n",
        "type(s4)\n",
        "print(s4)"
      ]
    },
    {
      "cell_type": "code",
      "execution_count": null,
      "id": "f91f449c-1eec-4fa9-b116-0a2d704a4ece",
      "metadata": {
        "id": "f91f449c-1eec-4fa9-b116-0a2d704a4ece",
        "outputId": "c7d2dfba-ac47-43eb-c3d0-16f8592fbdf5"
      },
      "outputs": [
        {
          "ename": "TypeError",
          "evalue": "can only concatenate str (not \"int\") to str",
          "output_type": "error",
          "traceback": [
            "\u001b[1;31m---------------------------------------------------------------------------\u001b[0m",
            "\u001b[1;31mTypeError\u001b[0m                                 Traceback (most recent call last)",
            "Cell \u001b[1;32mIn[52], line 1\u001b[0m\n\u001b[1;32m----> 1\u001b[0m s4 \u001b[38;5;241m+\u001b[39m \u001b[38;5;241m2\u001b[39m\n",
            "\u001b[1;31mTypeError\u001b[0m: can only concatenate str (not \"int\") to str"
          ]
        }
      ],
      "source": [
        "s4 + 2 #error"
      ]
    },
    {
      "cell_type": "markdown",
      "id": "a6a0e23d-e122-425e-8e4e-59d0fc92bec2",
      "metadata": {
        "id": "a6a0e23d-e122-425e-8e4e-59d0fc92bec2"
      },
      "source": [
        "## Arithmetic operators"
      ]
    },
    {
      "cell_type": "code",
      "execution_count": null,
      "id": "b0c8e034-59c7-4f37-9935-cb333c092f96",
      "metadata": {
        "id": "b0c8e034-59c7-4f37-9935-cb333c092f96",
        "outputId": "198bdeda-aa1b-4217-b3a2-e99377db8cba"
      },
      "outputs": [
        {
          "name": "stdout",
          "output_type": "stream",
          "text": [
            "2\n",
            "4\n"
          ]
        }
      ],
      "source": [
        "x = 2\n",
        "y = 4\n",
        "print(x)\n",
        "print(y)"
      ]
    },
    {
      "cell_type": "code",
      "execution_count": null,
      "id": "5b6bcb2d-3f2b-4bfd-9f31-0d6b8f1625ba",
      "metadata": {
        "id": "5b6bcb2d-3f2b-4bfd-9f31-0d6b8f1625ba",
        "outputId": "19428c21-3955-4090-bb48-d9a538972eb1"
      },
      "outputs": [
        {
          "data": {
            "text/plain": [
              "0.5"
            ]
          },
          "execution_count": 94,
          "metadata": {},
          "output_type": "execute_result"
        }
      ],
      "source": [
        "x / y"
      ]
    },
    {
      "cell_type": "code",
      "execution_count": null,
      "id": "1af5e575-2731-4120-b403-48c8cb9591f3",
      "metadata": {
        "id": "1af5e575-2731-4120-b403-48c8cb9591f3",
        "outputId": "65092ba3-0783-49f9-8258-66a330cf91d6"
      },
      "outputs": [
        {
          "data": {
            "text/plain": [
              "8"
            ]
          },
          "execution_count": 96,
          "metadata": {},
          "output_type": "execute_result"
        }
      ],
      "source": [
        "x * y"
      ]
    },
    {
      "cell_type": "code",
      "execution_count": null,
      "id": "02bb9011-381c-4c57-8a5d-c91eec81bb1f",
      "metadata": {
        "id": "02bb9011-381c-4c57-8a5d-c91eec81bb1f",
        "outputId": "25913ff8-0e1b-4129-f633-28d3e5ca5176"
      },
      "outputs": [
        {
          "data": {
            "text/plain": [
              "0"
            ]
          },
          "execution_count": 88,
          "metadata": {},
          "output_type": "execute_result"
        }
      ],
      "source": [
        "y % x"
      ]
    },
    {
      "cell_type": "code",
      "execution_count": null,
      "id": "89637993-e34c-47a1-9c68-3faff5723511",
      "metadata": {
        "id": "89637993-e34c-47a1-9c68-3faff5723511",
        "outputId": "85fe1544-2038-4e7d-cbc9-653b255d740c"
      },
      "outputs": [
        {
          "data": {
            "text/plain": [
              "2"
            ]
          },
          "execution_count": 84,
          "metadata": {},
          "output_type": "execute_result"
        }
      ],
      "source": [
        "x % y"
      ]
    },
    {
      "cell_type": "code",
      "execution_count": null,
      "id": "978d615a-31f9-4226-b792-689cbe01c44b",
      "metadata": {
        "id": "978d615a-31f9-4226-b792-689cbe01c44b",
        "outputId": "437c3652-642f-48ed-c294-7c80f52d8aa0"
      },
      "outputs": [
        {
          "data": {
            "text/plain": [
              "2"
            ]
          },
          "execution_count": 82,
          "metadata": {},
          "output_type": "execute_result"
        }
      ],
      "source": [
        "y // x"
      ]
    },
    {
      "cell_type": "code",
      "execution_count": null,
      "id": "91d2a903-9ee9-4b95-8e05-36fa7b8e16f2",
      "metadata": {
        "id": "91d2a903-9ee9-4b95-8e05-36fa7b8e16f2",
        "outputId": "dbe3c6d9-aa69-4461-b064-f35e53993c53"
      },
      "outputs": [
        {
          "data": {
            "text/plain": [
              "16"
            ]
          },
          "execution_count": 70,
          "metadata": {},
          "output_type": "execute_result"
        }
      ],
      "source": [
        "x ** y"
      ]
    },
    {
      "cell_type": "code",
      "execution_count": null,
      "id": "544eb633-2a0d-4ae6-9483-2015a85c5b15",
      "metadata": {
        "id": "544eb633-2a0d-4ae6-9483-2015a85c5b15",
        "outputId": "ff61b3ff-a451-4d5d-a36f-4cb060ceb4b5"
      },
      "outputs": [
        {
          "data": {
            "text/plain": [
              "512"
            ]
          },
          "execution_count": 72,
          "metadata": {},
          "output_type": "execute_result"
        }
      ],
      "source": [
        "#Exception\n",
        "2 ** 3 ** 2"
      ]
    },
    {
      "cell_type": "markdown",
      "id": "8f961b58-3284-4b07-8296-6531de849cef",
      "metadata": {
        "id": "8f961b58-3284-4b07-8296-6531de849cef"
      },
      "source": [
        "## comparision operators"
      ]
    },
    {
      "cell_type": "code",
      "execution_count": null,
      "id": "7caf5dda-dfa0-4be4-8cbd-c462e00f14c2",
      "metadata": {
        "id": "7caf5dda-dfa0-4be4-8cbd-c462e00f14c2",
        "outputId": "5b7f3b17-450a-4a2b-f9a4-05b96a52ca4e"
      },
      "outputs": [
        {
          "data": {
            "text/plain": [
              "False"
            ]
          },
          "execution_count": 76,
          "metadata": {},
          "output_type": "execute_result"
        }
      ],
      "source": [
        "x == y"
      ]
    },
    {
      "cell_type": "code",
      "execution_count": null,
      "id": "fc7c8ce4-c086-4df5-824e-c0fecb95ad8b",
      "metadata": {
        "id": "fc7c8ce4-c086-4df5-824e-c0fecb95ad8b",
        "outputId": "cf68cb8f-5917-4009-8f9f-323e61867f73"
      },
      "outputs": [
        {
          "data": {
            "text/plain": [
              "True"
            ]
          },
          "execution_count": 80,
          "metadata": {},
          "output_type": "execute_result"
        }
      ],
      "source": [
        "x != y"
      ]
    },
    {
      "cell_type": "code",
      "execution_count": null,
      "id": "6c4f153f-9888-40d7-bba7-34af1572556a",
      "metadata": {
        "id": "6c4f153f-9888-40d7-bba7-34af1572556a",
        "outputId": "f7e53967-d05e-4387-c1a2-0dba10c45ecd"
      },
      "outputs": [
        {
          "data": {
            "text/plain": [
              "False"
            ]
          },
          "execution_count": 92,
          "metadata": {},
          "output_type": "execute_result"
        }
      ],
      "source": [
        "x > y"
      ]
    },
    {
      "cell_type": "code",
      "execution_count": null,
      "id": "4dd26e35-216f-48c3-885f-51f89e8c531c",
      "metadata": {
        "id": "4dd26e35-216f-48c3-885f-51f89e8c531c",
        "outputId": "6d93bba9-3890-4e31-a440-239c3a06a82d"
      },
      "outputs": [
        {
          "data": {
            "text/plain": [
              "False"
            ]
          },
          "execution_count": 100,
          "metadata": {},
          "output_type": "execute_result"
        }
      ],
      "source": [
        "x >= y"
      ]
    },
    {
      "cell_type": "code",
      "execution_count": null,
      "id": "513b4622-d7c3-4c5c-bbf4-f084799397a6",
      "metadata": {
        "id": "513b4622-d7c3-4c5c-bbf4-f084799397a6",
        "outputId": "4aa26640-91a3-4dba-f8a7-fcb98a6f517c"
      },
      "outputs": [
        {
          "data": {
            "text/plain": [
              "True"
            ]
          },
          "execution_count": 102,
          "metadata": {},
          "output_type": "execute_result"
        }
      ],
      "source": [
        "x <= y"
      ]
    },
    {
      "cell_type": "markdown",
      "id": "9a17bb4b-dd27-4c80-a258-1017993269a7",
      "metadata": {
        "id": "9a17bb4b-dd27-4c80-a258-1017993269a7"
      },
      "source": [
        "## Assignment operators"
      ]
    },
    {
      "cell_type": "code",
      "execution_count": null,
      "id": "ba3fb56d-04f3-4865-bd95-d8b663d8cb23",
      "metadata": {
        "id": "ba3fb56d-04f3-4865-bd95-d8b663d8cb23",
        "outputId": "8b346c0b-d9dd-4f36-d29f-8e91d5f97853"
      },
      "outputs": [
        {
          "data": {
            "text/plain": [
              "5"
            ]
          },
          "execution_count": 111,
          "metadata": {},
          "output_type": "execute_result"
        }
      ],
      "source": [
        "a = 3\n",
        "a += 2\n",
        "a"
      ]
    },
    {
      "cell_type": "markdown",
      "id": "261ee795-abb2-4bf2-b0a2-9e0beb424cc7",
      "metadata": {
        "id": "261ee795-abb2-4bf2-b0a2-9e0beb424cc7"
      },
      "source": [
        "## Logical operators"
      ]
    },
    {
      "cell_type": "code",
      "execution_count": null,
      "id": "e724bce3-9e2b-46e5-a3cc-54288d843a76",
      "metadata": {
        "id": "e724bce3-9e2b-46e5-a3cc-54288d843a76",
        "outputId": "eb326deb-cba6-4350-d4ac-00895620220a"
      },
      "outputs": [
        {
          "data": {
            "text/plain": [
              "True"
            ]
          },
          "execution_count": 115,
          "metadata": {},
          "output_type": "execute_result"
        }
      ],
      "source": [
        "a > 3"
      ]
    },
    {
      "cell_type": "code",
      "execution_count": null,
      "id": "fe9ca97b-cedc-4bc2-906b-42b218bd6a69",
      "metadata": {
        "id": "fe9ca97b-cedc-4bc2-906b-42b218bd6a69",
        "outputId": "0d1c482b-77db-4ef6-d0e4-eee95c88701b"
      },
      "outputs": [
        {
          "data": {
            "text/plain": [
              "True"
            ]
          },
          "execution_count": 117,
          "metadata": {},
          "output_type": "execute_result"
        }
      ],
      "source": [
        "True and True"
      ]
    },
    {
      "cell_type": "code",
      "execution_count": null,
      "id": "480030c0-6dcc-4407-8f3d-4c07f72b248e",
      "metadata": {
        "id": "480030c0-6dcc-4407-8f3d-4c07f72b248e",
        "outputId": "08ab70a4-8b33-4d61-ae0f-ba5bbf00f591"
      },
      "outputs": [
        {
          "data": {
            "text/plain": [
              "True"
            ]
          },
          "execution_count": 119,
          "metadata": {},
          "output_type": "execute_result"
        }
      ],
      "source": [
        "True or False"
      ]
    },
    {
      "cell_type": "code",
      "execution_count": null,
      "id": "8638ed23-a757-4779-b2a6-228f7a19838b",
      "metadata": {
        "id": "8638ed23-a757-4779-b2a6-228f7a19838b"
      },
      "outputs": [],
      "source": []
    },
    {
      "cell_type": "code",
      "execution_count": null,
      "id": "7cbd1d0b-3db7-40eb-8818-6af0a16a7205",
      "metadata": {
        "id": "7cbd1d0b-3db7-40eb-8818-6af0a16a7205"
      },
      "outputs": [],
      "source": []
    },
    {
      "cell_type": "code",
      "execution_count": null,
      "id": "95c25180-f7d7-44f5-9f25-36999445441c",
      "metadata": {
        "id": "95c25180-f7d7-44f5-9f25-36999445441c"
      },
      "outputs": [],
      "source": []
    }
  ],
  "metadata": {
    "kernelspec": {
      "display_name": "Python 3 (ipykernel)",
      "language": "python",
      "name": "python3"
    },
    "language_info": {
      "codemirror_mode": {
        "name": "ipython",
        "version": 3
      },
      "file_extension": ".py",
      "mimetype": "text/x-python",
      "name": "python",
      "nbconvert_exporter": "python",
      "pygments_lexer": "ipython3",
      "version": "3.12.4"
    },
    "colab": {
      "provenance": [],
      "include_colab_link": true
    }
  },
  "nbformat": 4,
  "nbformat_minor": 5
}